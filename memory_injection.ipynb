{
 "cells": [
  {
   "cell_type": "code",
   "execution_count": 1,
   "id": "aa706f29",
   "metadata": {},
   "outputs": [],
   "source": [
    "from transformers import (\n",
    "    AutoModelForCausalLM,\n",
    "    QuantoConfig,\n",
    ")\n",
    "import torch\n",
    "import torch.nn as nn\n",
    "\n",
    "from hercules import LlamaMemoryAsLayer, NeuralMemory, MemoryLlama\n",
    "import matplotlib.pyplot as plt\n",
    "from tqdm.auto import tqdm"
   ]
  },
  {
   "cell_type": "code",
   "execution_count": 2,
   "id": "b057cd9f",
   "metadata": {},
   "outputs": [],
   "source": [
    "neural_memory_config = {\n",
    "    \"n_hidden_layers\": 1,\n",
    "    \"meta_memory_dim\": 32,\n",
    "    \"input_dim\": 2048,\n",
    "    \"hidden_dim\": 256,\n",
    "    \"output_dim\": 2048,\n",
    "    \"learning_rate\": 4e-4,\n",
    "    \"max_adaptive_lr\": 1e-2,\n",
    "    \"num_attention_heads\": 4,\n",
    "    \"attention_window_size\": 7,\n",
    "    \"n_chunks\": 10,\n",
    "}"
   ]
  },
  {
   "cell_type": "code",
   "execution_count": 73,
   "id": "118faa57",
   "metadata": {},
   "outputs": [],
   "source": [
    "model = MemoryLlama(\n",
    "    llama_hf_path=\"meta-llama/Llama-3.2-1B\",\n",
    "    freeze_llama_layers=True,\n",
    "    neural_memory_config=neural_memory_config,\n",
    "    memory_layer_ids=-1,\n",
    "    quantize=True,\n",
    ")"
   ]
  },
  {
   "cell_type": "code",
   "execution_count": 6,
   "id": "cafd1b3f",
   "metadata": {},
   "outputs": [
    {
     "name": "stdout",
     "output_type": "stream",
     "text": [
      "Llama inputs: torch.Size([4, 256, 2048])\n",
      "Llama outputs: torch.Size([4, 256, 2048])\n",
      "lmm output: torch.Size([4, 256, 2048])\n",
      "Loss with MAL: 11.761780738830566\n"
     ]
    }
   ],
   "source": [
    "device = torch.device(\"cpu\")\n",
    "model.to(device)\n",
    "\n",
    "batch_size = 4\n",
    "seq_len = 256\n",
    "\n",
    "input_ids = torch.randint(0, model.llama.config.vocab_size, (batch_size, seq_len))\n",
    "input_ids = input_ids.to(device)\n",
    "\n",
    "output = model(input_ids, labels=input_ids)\n",
    "print(f\"Loss with MAL: {output.loss.item()}\")\n",
    "loss = output.loss.item()"
   ]
  },
  {
   "cell_type": "code",
   "execution_count": 70,
   "id": "ab5ec4a4",
   "metadata": {},
   "outputs": [],
   "source": [
    "def log_memory_model(model: AutoModelForCausalLM):\n",
    "    trainable = sum(p.numel() for p in model.parameters() if p.requires_grad)\n",
    "    frozen = sum(p.numel() for p in model.parameters() if not p.requires_grad)\n",
    "    print(\n",
    "        f\"\"\"Trainable parameters: {trainable:.3e}\n",
    "Frozen parameters: {frozen:.3e}\"\"\"\n",
    "    )"
   ]
  },
  {
   "cell_type": "code",
   "execution_count": null,
   "id": "954b815f",
   "metadata": {},
   "outputs": [
    {
     "name": "stdout",
     "output_type": "stream",
     "text": [
      "Trainable parameters: 3.154e+07\n",
      "Frozen parameters: 1.236e+09\n"
     ]
    }
   ],
   "source": [
    "for name, param in model.named_parameters():\n",
    "     if name.startswith(\"llama\"):\n",
    "          param.requires_grad = False\n",
    "log_memory_model(model.llama)   "
   ]
  }
 ],
 "metadata": {
  "kernelspec": {
   "display_name": "hercules",
   "language": "python",
   "name": "python3"
  },
  "language_info": {
   "codemirror_mode": {
    "name": "ipython",
    "version": 3
   },
   "file_extension": ".py",
   "mimetype": "text/x-python",
   "name": "python",
   "nbconvert_exporter": "python",
   "pygments_lexer": "ipython3",
   "version": "3.11.13"
  }
 },
 "nbformat": 4,
 "nbformat_minor": 5
}
